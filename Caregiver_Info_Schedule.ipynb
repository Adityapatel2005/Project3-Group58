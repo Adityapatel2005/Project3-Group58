{
 "cells": [
  {
   "cell_type": "markdown",
   "id": "46f96a8c-bbe0-4c00-835f-dd1c03b78c19",
   "metadata": {},
   "source": [
    "Caregiver Info "
   ]
  },
  {
   "cell_type": "code",
   "execution_count": 16,
   "id": "50d02a3b-4703-4bc0-bb2c-0dd9e54c13a8",
   "metadata": {},
   "outputs": [
    {
     "name": "stdin",
     "output_type": "stream",
     "text": [
      "Enter the year:  2024\n",
      "Enter the month (1-12):  11\n"
     ]
    },
    {
     "name": "stdout",
     "output_type": "stream",
     "text": [
      "HTML work schedule for November 2024 generated successfully!\n"
     ]
    }
   ],
   "source": [
    "import calendar \n",
    "class CaregiverInfo:\n",
    "    \n",
    "    availability_options = [\"preferred\", \"available\", \"unavailable\"]  # availability options\n",
    "    \n",
    "    def __init__(self, name, phone, email, pay_rate):\n",
    "        self.name = name\n",
    "        self.phone = phone\n",
    "        self.email = email\n",
    "        self.pay_rate = pay_rate\n",
    "        self.hours = 0 # zero for now but can change later \n",
    "        self.availability = \"available\"  # to set the availbility for the schedule \n",
    "        self.availability_dictionary = self.create_default_schedule()\n",
    "    \n",
    "    def create_default_schedule(self):\n",
    "        schedule = {}\n",
    "        for day in range(1, 8):  \n",
    "            schedule[day] = {\n",
    "                \"7:00AM - 1:00PM\": \"available\",\n",
    "                \"1:00PM - 7:00PM\": \"available\"\n",
    "            }\n",
    "        return schedule\n",
    "    def update_schedule(self):\n",
    "        schedule = self.availability_dictionary\n",
    "        availability_options = [\"preferred\", \"available\", \"unavailable\"]  # availability options\n",
    "    \n",
    "        day_names = list(calendar.day_name)  #days \n",
    "        \n",
    "        for day in range(1, 8):\n",
    "            print(f\"\\nAvailability for {day_names[day - 1]}\")\n",
    "            \n",
    "            # Get availability for the morning shift\n",
    "            morning_shift = input(\"Morning shift (7:00AM - 1:00PM): Enter 'preferred', 'available', or 'NA' (default is 'available'): \").strip().lower()\n",
    "            if morning_shift in availability_options:\n",
    "                schedule[day][\"7:00AM - 1:00PM\"] = morning_shift\n",
    "            \n",
    "            # Get availability for the afternoon shift\n",
    "            afternoon_shift = input(\"Afternoon shift (1:00PM - 7:00PM): Enter 'preferred', 'available', or 'NA' (default is 'available'): \").strip().lower()\n",
    "            if afternoon_shift in availability_options:\n",
    "                schedule[day][\"1:00PM - 7:00PM\"] = afternoon_shift\n",
    "        \n",
    "        self.availability_dictionary= schedule\n",
    "    \n",
    "    def caregiver_working(self):# for caregivers hours to increase by 6 if scheduled to\n",
    "        self.hours += 6\n",
    "    \n",
    "people = [\n",
    "    CaregiverInfo(\"Alice\", \"334-678-5690\", \"Alice03@gmail.com\", 20),# 20 is the fixed pay for the non-family members \n",
    "    CaregiverInfo(\"Bob\", \"456-231-3498\", \"Bob28@gmail.com\", 20),\n",
    "    CaregiverInfo(\"Charlie\", \"458-372-8609\", \"charlie89@gmail.com\", 20),\n",
    "    CaregiverInfo(\"David\", \"567-780-3451\", \"David459@gmail.com\", 20),\n",
    "    CaregiverInfo(\"Eve\", \"348-548-9908\", \"Eve123@gmail.com\", 0),  # family members do not get paid\n",
    "    CaregiverInfo(\"Frank\", \"567-2112-6732\", \"Frank13@gmail.com\", 0),  # family member\n",
    "    CaregiverInfo(\"Grace\", \"789-903-0043\", \"Grace34897@gmail.com\", 0),  # family member\n",
    "    CaregiverInfo(\"Justin\", \"345-2287-8765\", \"justin34@gmail.com\", 0)  # family member\n",
    "]\n"
   ]
  },
  {
   "cell_type": "code",
   "execution_count": null,
   "id": "27ede789-d370-44fa-aeee-9040a8f58a18",
   "metadata": {},
   "outputs": [],
   "source": []
  }
 ],
 "metadata": {
  "kernelspec": {
   "display_name": "Python 3 (ipykernel)",
   "language": "python",
   "name": "python3"
  },
  "language_info": {
   "codemirror_mode": {
    "name": "ipython",
    "version": 3
   },
   "file_extension": ".py",
   "mimetype": "text/x-python",
   "name": "python",
   "nbconvert_exporter": "python",
   "pygments_lexer": "ipython3",
   "version": "3.12.7"
  }
 },
 "nbformat": 4,
 "nbformat_minor": 5
}
