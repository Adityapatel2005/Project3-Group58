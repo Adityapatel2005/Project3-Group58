{
 "cells": [
  {
   "cell_type": "markdown",
   "id": "46f96a8c-bbe0-4c00-835f-dd1c03b78c19",
   "metadata": {},
   "source": [
    "Caregiver Info "
   ]
  },
  {
   "cell_type": "code",
   "execution_count": 16,
   "id": "50d02a3b-4703-4bc0-bb2c-0dd9e54c13a8",
   "metadata": {},
   "outputs": [
    {
     "name": "stdout",
     "output_type": "stream",
     "text": [
      "Enter the year:  2024\n",
      "Enter the month (1-12):  11\n"
     ]
    },
    {
     "name": "stdout",
     "output_type": "stream",
     "text": [
      "HTML work schedule for November 2024 generated successfully!\n"
     ]
    }
   ],
   "source": [
    "import calendar \n",
    "class CaregiverInfo:\n",
    "    \n",
    "    availability_options = [\"preferred\", \"available\", \"unavailable\"]  # availability options\n",
    "    \n",
    "    def __init__(self, name, phone, email, pay_rate):\n",
    "        self.name = name\n",
    "        self.phone = phone\n",
    "        self.email = email\n",
    "        self.pay_rate = pay_rate\n",
    "        self.hours = 0 # zero for now but can change later \n",
    "        self.availability = \"available\"  # to set the availbility for the schedule \n",
    "        self.availability_dictionary = self.create_default_schedule()\n",
    "    \n",
    "    def create_default_schedule(self):\n",
    "        schedule = {}\n",
    "        for day in range(1, 8):  \n",
    "            schedule[day] = {\n",
    "                \"7:00AM - 1:00PM\": \"available\",\n",
    "                \"1:00PM - 7:00PM\": \"available\"\n",
    "            }\n",
    "        return schedule\n",
    "    def update_schedule(self):\n",
    "        schedule = self.availability_dictionary\n",
    "        availability_options = [\"preferred\", \"available\", \"unavailable\"]  # availability options\n",
    "    \n",
    "        day_names = list(calendar.day_name)  #days \n",
    "        \n",
    "        for day in range(1, 8):\n",
    "            print(f\"\\nAvailability for {day_names[day - 1]}\")\n",
    "            \n",
    "            # Get availability for the morning shift\n",
    "            morning_shift = input(\"Morning shift (7:00AM - 1:00PM): Enter 'preferred', 'available', or 'NA' (default is 'available'): \").strip().lower()\n",
    "            if morning_shift in availability_options:\n",
    "                schedule[day][\"7:00AM - 1:00PM\"] = morning_shift\n",
    "            \n",
    "            # Get availability for the afternoon shift\n",
    "            afternoon_shift = input(\"Afternoon shift (1:00PM - 7:00PM): Enter 'preferred', 'available', or 'NA' (default is 'available'): \").strip().lower()\n",
    "            if afternoon_shift in availability_options:\n",
    "                schedule[day][\"1:00PM - 7:00PM\"] = afternoon_shift\n",
    "        \n",
    "        self.availability_dictionary= schedule\n",
    "    \n",
    "    def caregiver_working(self):# for caregivers hours to increase by 6 if scheduled to\n",
    "        self.hours += 6\n",
    "    \n",
    "people = [\n",
    "    CaregiverInfo(\"Alice\", \"334-678-5690\", \"Alice03@gmail.com\", 20),# 20 is the fixed pay for the non-family members \n",
    "    CaregiverInfo(\"Bob\", \"456-231-3498\", \"Bob28@gmail.com\", 20),\n",
    "    CaregiverInfo(\"Charlie\", \"458-372-8609\", \"charlie89@gmail.com\", 20),\n",
    "    CaregiverInfo(\"David\", \"567-780-3451\", \"David459@gmail.com\", 20),\n",
    "    CaregiverInfo(\"Eve\", \"348-548-9908\", \"Eve123@gmail.com\", 0),  # family members do not get paid\n",
    "    CaregiverInfo(\"Frank\", \"567-2112-6732\", \"Frank13@gmail.com\", 0),  # family member\n",
    "    CaregiverInfo(\"Grace\", \"789-903-0043\", \"Grace34897@gmail.com\", 0),  # family member\n",
    "    CaregiverInfo(\"Justin\", \"345-2287-8765\", \"justin34@gmail.com\", 0)  # family member\n",
    "]\n"
   ]
  },
  {
   "cell_type": "code",
   "execution_count": null,
   "id": "c40c7c2b-07c7-4243-b3a5-13433ae2bb4d",
   "metadata": {},
   "outputs": [
    {
     "name": "stdout",
     "output_type": "stream",
     "text": [
      "\n",
      "Caregiver Availability Management System\n",
      "---------------------------------\n",
      "1. Display all caregiver schedules\n",
      "2. Update a specific caregiver's schedule\n",
      "0. Exit\n"
     ]
    },
    {
     "name": "stdout",
     "output_type": "stream",
     "text": [
      "\n",
      "Choose an option (0-2):  2\n"
     ]
    },
    {
     "name": "stdout",
     "output_type": "stream",
     "text": [
      "\n",
      "Available caregivers:\n",
      "1. Alice\n",
      "2. Bob\n",
      "3. Charlie\n",
      "4. David\n",
      "5. Eve\n",
      "6. Frank\n",
      "7. Grace\n",
      "8. Justin\n"
     ]
    },
    {
     "name": "stdout",
     "output_type": "stream",
     "text": [
      "\n",
      "Select a caregiver by number:  1\n"
     ]
    },
    {
     "name": "stdout",
     "output_type": "stream",
     "text": [
      "\n",
      "You selected Alice.\n",
      "\n",
      "Availability for Monday\n"
     ]
    }
   ],
   "source": [
    "# Function to displays all caregivers and their schedules\n",
    "def display_all_caregivers_schedules():\n",
    "    \"Displays the availability schedule for all caregivers.\"\n",
    "    for caregiver in people:\n",
    "        print(f\"\\nSchedule for {caregiver.name}:\")\n",
    "        day_names = list(calendar.day_name)\n",
    "        for day, shifts in caregiver.availability_dictionary.items():\n",
    "            print(f\"{day_names[day - 1]}:\")\n",
    "            print(f\"  Morning shift (7:00AM - 1:00PM): {shifts['7:00AM - 1:00PM']}\")\n",
    "            print(f\"  Afternoon shift (1:00PM - 7:00PM): {shifts['1:00PM - 7:00PM']}\")\n",
    "# Allows caregivers to update their availability \n",
    "def update_specific_caregiver_schedule():\n",
    "    \"Allows a user to select a caregiver and update their schedule interactively. \"\n",
    "    print(\"\\nAvailable caregivers:\")\n",
    "    for i, caregiver in enumerate(people, start=1):\n",
    "        print(f\"{i}. {caregiver.name}\")\n",
    "    try:\n",
    "        choice = int(input(\"\\nSelect a caregiver by number: \"))\n",
    "        if choice < 1 or choice > len(people):\n",
    "            print(\"Invalid selection. Please try again.\")\n",
    "            return\n",
    "        \n",
    "        selected_caregiver = people[choice - 1]\n",
    "        print(f\"\\nYou selected {selected_caregiver.name}.\")\n",
    "        selected_caregiver.update_schedule() # Allows the selected caregiver to change availability \n",
    "        print(f\"\\nUpdated schedule for {selected_caregiver.name}:\") # Displays the update\n",
    "        day_names = list(calendar.day_name)\n",
    "        for day, shifts in selected_caregiver.availability_dictionary.items():\n",
    "            print(f\"{day_names[day - 1]}:\")\n",
    "            print(f\"  Morning shift (7:00AM - 1:00PM): {shifts['7:00AM - 1:00PM']}\")\n",
    "            print(f\"  Afternoon shift (1:00PM - 7:00PM): {shifts['1:00PM - 7:00PM']}\")\n",
    "    except ValueError:\n",
    "        print(\"Invalid input. Please enter a number.\")\n",
    "    except IndexError:\n",
    "        print(\"Invalid selection. Please try again.\")\n",
    "\n",
    "def main(): # Main menu that lets you manage different options\n",
    "    while True:\n",
    "        print(\"\\nCaregiver Availability Management System\")\n",
    "        print(\"---------------------------------\")\n",
    "        print(\"1. Display all caregiver schedules\")\n",
    "        print(\"2. Update a specific caregiver's schedule\")\n",
    "        print(\"0. Exit\")\n",
    "        \n",
    "        try:\n",
    "            option = int(input(\"\\nChoose an option (0-2): \"))\n",
    "            \n",
    "            if option == 0:\n",
    "                print(\"\\nExiting the program. Goodbye!\")\n",
    "                break\n",
    "            elif option == 1:\n",
    "                display_all_caregivers_schedules()\n",
    "            elif option == 2:\n",
    "                update_specific_caregiver_schedule()\n",
    "            else:\n",
    "                print(\"Invalid option. Please choose between 0 and 2.\")\n",
    "        \n",
    "        except ValueError:\n",
    "            print(\"Invalid input. Please enter a number.\")\n",
    "\n",
    "if __name__ == \"__main__\": #Runs part of the program\n",
    "    main()"
   ]
  },
  {
   "cell_type": "code",
   "execution_count": 16,
   "id": "759622d7-1883-4d18-83f1-8650c7192793",
   "metadata": {},
   "outputs": [
    {
     "name": "stdout",
     "output_type": "stream",
     "text": [
      "Care schedule saved as 'care_schedule.html'. Open this file in a browser to view it.\n"
     ]
    }
   ],
   "source": [
    "import calendar\n",
    "from datetime import datetime\n",
    "\n",
    "def generate_care_schedule(year, month):\n",
    "    \"\"\"Generates an HTML calendar displaying caregiver schedules for AM and PM shifts.\n",
    "    :param year: The year for the calendar.\n",
    "    :param month: The month for the calendar.\"\"\"\n",
    "   \n",
    "    cal = calendar.HTMLCalendar(calendar.SUNDAY)  # Creates an HTML Calendar \n",
    "    day_names = list(calendar.day_name)  #(Monday, Tuesday,...)\n",
    "    schedule = {day: {\"AM\": [], \"PM\": []} for day in range(1, 8)} # Createed a dictionary to show the schedule for each day\n",
    "    \n",
    "    for caregiver in people:   # Add caregivers to the schedule based on availability\n",
    "        for day, shifts in caregiver.availability_dictionary.items():\n",
    "            if shifts[\"7:00AM - 1:00PM\"] in [\"preferred\", \"available\"]:\n",
    "                schedule[day][\"AM\"].append(caregiver.name)\n",
    "            if shifts[\"1:00PM - 7:00PM\"] in [\"preferred\", \"available\"]:\n",
    "                schedule[day][\"PM\"].append(caregiver.name)\n",
    "    \n",
    "    html_calendar = cal.formatmonth(year, month) # Generates the HTML calendar\n",
    "    \n",
    "    for day in range(1, 8):  # Days are numbered from 1 (Monday) to 7 (Sunday) # Adds caregiver schedules to each day in the calendar\n",
    "        am_caregivers = \", \".join(schedule[day][\"AM\"]) if schedule[day][\"AM\"] else \"No one available\"\n",
    "        pm_caregivers = \", \".join(schedule[day][\"PM\"]) if schedule[day][\"PM\"] else \"No one available\"\n",
    "        \n",
    "        # Replace placeholders with AM and PM caregiver names\n",
    "        html_calendar = html_calendar.replace(\n",
    "            f\">{day}<\",\n",
    "            f\"><b>{day}</b><br>AM: {am_caregivers}<br>PM: {pm_caregivers}<\"\n",
    "        )\n",
    "    \n",
    "    with open(\"care_schedule.html\", \"w\") as file: # Saves the HTML calendar to a file\n",
    "        file.write(\"<html><head><title>Care Schedule</title></head><body>\")\n",
    "        file.write(f\"<h1>Care Schedule for {calendar.month_name[month]} {year}</h1>\")\n",
    "        file.write(html_calendar)\n",
    "        file.write(\"</body></html>\")\n",
    "    print(f\"Care schedule saved as 'care_schedule.html'. Open this file in a browser to view it.\")\n",
    "if __name__ == \"__main__\":\n",
    "    current_year = datetime.now().year    # Gets the current year and month\n",
    "    current_month = datetime.now().month\n",
    "    generate_care_schedule(current_year, current_month) # Generates the schedule for the current month"
   ]
  },
  {
   "cell_type": "code",
   "execution_count": null,
   "id": "cac727ad-f8c4-4ce5-b75a-9ccc426ced22",
   "metadata": {},
   "outputs": [],
   "source": []
  }
 ],
 "metadata": {
  "kernelspec": {
   "display_name": "Python 3 (ipykernel)",
   "language": "python",
   "name": "python3"
  },
  "language_info": {
   "codemirror_mode": {
    "name": "ipython",
    "version": 3
   },
   "file_extension": ".py",
   "mimetype": "text/x-python",
   "name": "python",
   "nbconvert_exporter": "python",
   "pygments_lexer": "ipython3",
   "version": "3.12.7"
  }
 },
 "nbformat": 4,
 "nbformat_minor": 5
}
