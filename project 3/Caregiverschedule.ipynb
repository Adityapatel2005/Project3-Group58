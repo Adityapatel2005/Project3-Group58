{
 "cells": [
  {
   "cell_type": "markdown",
   "id": "38628467-c1b8-4a1a-99a6-d146ca613df6",
   "metadata": {},
   "source": [
    "create calender "
   ]
  },
  {
   "cell_type": "code",
   "execution_count": 4,
   "id": "14726d77-6634-42ff-a20c-36bccdd193d7",
   "metadata": {},
   "outputs": [
    {
     "name": "stdin",
     "output_type": "stream",
     "text": [
      "Enter the year:  2024\n",
      "Enter the month (1-12):  11\n"
     ]
    },
    {
     "name": "stdout",
     "output_type": "stream",
     "text": [
      "HTML work schedule for November 2024 generated successfully!\n"
     ]
    }
   ],
   "source": [
    "import calendar\n",
    "import random\n",
    "\n",
    "class CaregiverScheduler:\n",
    "    def __init__(self, name, phone, email, pay_rate, hours):\n",
    "        self.name = name\n",
    "        self.phone = phone\n",
    "        self.email = email\n",
    "        self.pay_rate = pay_rate\n",
    "        self.hours = hours\n",
    "\n",
    "    def __repr__(self):\n",
    "        return f\"{self.name} ({self.phone})\"\n",
    "\n",
    "class ScheduleManager:\n",
    "    def __init__(self):\n",
    "        self.caregivers = []\n",
    "\n",
    "    def add_caregiver(self, caregiver):\n",
    "        self.caregivers.append(caregiver)\n",
    "\n",
    "    def generate_schedule(self, year, month):\n",
    "        shifts = [\"7:00AM - 1:00PM\", \"1:00PM - 7:00PM\"]\n",
    "        num_days = calendar.monthrange(year, month)[1]\n",
    "        schedule = {}\n",
    "        for day in range(1, num_days + 1):\n",
    "            schedule[day] = {\n",
    "                shifts[0]: random.choice(self.caregivers), \n",
    "                shifts[1]: random.choice(self.caregivers)\n",
    "            }\n",
    "        return schedule\n",
    "\n",
    "    def display_schedule_as_html(self, schedule, year, month):\n",
    "        html_schedule = f\"\"\"\n",
    "        <html>\n",
    "        <head>\n",
    "            <title>Work Schedule for {calendar.month_name[month]} {year}</title>\n",
    "            <style>\n",
    "                table {{ border-collapse: collapse; width: 100%; margin: 20px 0; }}\n",
    "                th, td {{ border: 1px solid black; padding: 10px; text-align: center; }}\n",
    "                th {{ background-color: #f2f2f2; }}\n",
    "                td {{ height: 100px; vertical-align: top; }}\n",
    "            </style>\n",
    "        </head>\n",
    "        <body>\n",
    "            <h1>Work Schedule for {calendar.month_name[month]} {year}</h1>\n",
    "            <table>\n",
    "                <tr><th>Mon</th><th>Tue</th><th>Wed</th><th>Thu</th><th>Fri</th><th>Sat</th><th>Sun</th></tr>\n",
    "        \"\"\"\n",
    "        first_weekday, num_days = calendar.monthrange(year, month)\n",
    "        current_day = 1\n",
    "        for week in range((num_days + first_weekday) // 7 + 1):\n",
    "            html_schedule += \"<tr>\"\n",
    "            for day in range(7):\n",
    "                if (week == 0 and day < first_weekday) or current_day > num_days:\n",
    "                    html_schedule += \"<td></td>\"\n",
    "                else:\n",
    "                    shifts_for_day = schedule.get(current_day, {})\n",
    "                    morning_shift = shifts_for_day.get(\"7:00AM - 1:00PM\", \"N/A\")\n",
    "                    afternoon_shift = shifts_for_day.get(\"1:00PM - 7:00PM\", \"N/A\")\n",
    "                    html_schedule += f\"<td>{current_day}<br><b>AM:</b> {morning_shift}<br><b>PM:</b> {afternoon_shift}</td>\"\n",
    "                    current_day += 1\n",
    "            html_schedule += \"</tr>\"\n",
    "        html_schedule += \"</table></body></html>\"\n",
    "\n",
    "        with open(f\"work_schedule_{year}_{month}.html\", \"w\") as file:\n",
    "            file.write(html_schedule)\n",
    "\n",
    "        print(f\"HTML work schedule for {calendar.month_name[month]} {year} generated successfully!\")\n",
    "\n",
    "\n",
    "# Example Usage\n",
    "caregiver1 = CaregiverScheduler(\"Alice\", \"123-456-7890\", \"alice@example.com\", 20, 8)\n",
    "caregiver2 = CaregiverScheduler(\"Bob\", \"987-654-3210\", \"bob@example.com\", 18, 8)\n",
    "\n",
    "scheduler = ScheduleManager()\n",
    "scheduler.add_caregiver(caregiver1)\n",
    "scheduler.add_caregiver(caregiver2)\n",
    "\n",
    "year = int(input(\"Enter the year: \"))\n",
    "month = int(input(\"Enter the month (1-12): \"))\n",
    "\n",
    "schedule = scheduler.generate_schedule(year, month)\n",
    "scheduler.display_schedule_as_html(schedule, year, month)\n"
   ]
  },
  {
   "cell_type": "code",
   "execution_count": null,
   "id": "a657abc8-646b-40b9-97b5-d0169046f0ba",
   "metadata": {},
   "outputs": [],
   "source": []
  }
 ],
 "metadata": {
  "kernelspec": {
   "display_name": "Python 3 (ipykernel)",
   "language": "python",
   "name": "python3"
  },
  "language_info": {
   "codemirror_mode": {
    "name": "ipython",
    "version": 3
   },
   "file_extension": ".py",
   "mimetype": "text/x-python",
   "name": "python",
   "nbconvert_exporter": "python",
   "pygments_lexer": "ipython3",
   "version": "3.12.7"
  }
 },
 "nbformat": 4,
 "nbformat_minor": 5
}
